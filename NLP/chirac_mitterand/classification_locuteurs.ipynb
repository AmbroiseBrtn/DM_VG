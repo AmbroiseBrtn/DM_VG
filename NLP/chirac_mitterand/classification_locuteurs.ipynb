{
 "cells": [
  {
   "cell_type": "markdown",
   "metadata": {},
   "source": [
    "# Classification de locuteur"
   ]
  },
  {
   "cell_type": "markdown",
   "metadata": {},
   "source": [
    "#### Objectif : créer une chaine de traitement des données textuelles sur la classification de locuteur\n",
    "\n",
    "#### Jeu de données : citations Chirac Mitterand"
   ]
  },
  {
   "cell_type": "markdown",
   "metadata": {},
   "source": [
    "* Analyses obligatoires\n",
    "    * Comparer les performances avec différents pré-traitements\n",
    "        * e.g Taille de vocabulaire, unigram/bigram, Stemming, ...\n",
    "    * Implémenter un post-traitement sur les données Chirac/Mitterrand\n",
    "    * Appliquer les traitements optimaux sur les données de test et sauver les résultats dans un fichier txt"
   ]
  },
  {
   "cell_type": "markdown",
   "metadata": {},
   "source": [
    "* Compléments optionnels\n",
    "    * Analyser les performances avec Word2Vec, en utilisant des stratégies d'agrégation naïves"
   ]
  },
  {
   "cell_type": "markdown",
   "metadata": {},
   "source": [
    "## Import des librairies"
   ]
  },
  {
   "cell_type": "code",
   "execution_count": 1,
   "metadata": {},
   "outputs": [],
   "source": [
    "import numpy as np\n",
    "import matplotlib.pyplot as plt\n",
    "import pandas as pd\n",
    "import codecs\n",
    "import re\n",
    "import seaborn as sns"
   ]
  },
  {
   "cell_type": "code",
   "execution_count": 2,
   "metadata": {},
   "outputs": [],
   "source": [
    "path = \"data/AFDpresidentutf8/corpus.tache1.learn.utf8\""
   ]
  },
  {
   "cell_type": "markdown",
   "metadata": {},
   "source": [
    "## Chargement des données Mitterand / Chirac"
   ]
  },
  {
   "cell_type": "code",
   "execution_count": 3,
   "metadata": {},
   "outputs": [],
   "source": [
    "# Chargement des données:\n",
    "def load_pres(fname):\n",
    "    pattern1 = re.compile(r\"<[0-9]*:[0-9]*:(.)>.*\")\n",
    "    pattern2 = re.compile(r\"<[0-9]*:[0-9]*:.>(.*)\")\n",
    "\n",
    "    with codecs.open(fname, 'r', 'utf-8') as s:\n",
    "        lines = s.readlines()\n",
    "\n",
    "    alltxts = [pattern2.sub(r\"\\1\", txt) for txt in lines if len(txt) >= 5]\n",
    "    alllabs = [-1 if pattern1.sub(r\"\\1\", txt).count('M') > 0 else 1 for txt in lines if len(txt) >= 5]\n",
    "\n",
    "    return alltxts, alllabs"
   ]
  },
  {
   "cell_type": "code",
   "execution_count": 4,
   "metadata": {},
   "outputs": [],
   "source": [
    "alltxts,alllabs = load_pres(path)"
   ]
  },
  {
   "cell_type": "markdown",
   "metadata": {},
   "source": [
    "### Verification de l'équilibre du plan d'expérience"
   ]
  },
  {
   "cell_type": "code",
   "execution_count": 5,
   "metadata": {},
   "outputs": [
    {
     "name": "stdout",
     "output_type": "stream",
     "text": [
      "Il y a 86.89669587027329 % de citations attribuées à Mitterand et 13.103304129726718 % de citations attribuées à Chirac \n"
     ]
    }
   ],
   "source": [
    "C, M = np.unique(alllabs, return_counts=True)[1]\n",
    "print(f\"Il y a {M/(C+M) * 100} % de citations attribuées à Mitterand et {C/(C+M) * 100} % de citations attribuées à Chirac \")"
   ]
  },
  {
   "cell_type": "markdown",
   "metadata": {},
   "source": [
    "On constate que le plan d'expérience n'est pas équilibré. Il va falloir échantilloner notre dataset pour se ramener à une situation à l'équilibre (50% des exemples associés à chaque locuteur)."
   ]
  },
  {
   "cell_type": "markdown",
   "metadata": {},
   "source": [
    "### Under-sampling dans la classe majoritaire 'Mitterand'"
   ]
  },
  {
   "cell_type": "code",
   "execution_count": 6,
   "metadata": {},
   "outputs": [],
   "source": [
    "from imblearn.under_sampling import RandomUnderSampler\n",
    "\n",
    "# Instancier le RandomUnderSampler\n",
    "rus = RandomUnderSampler(sampling_strategy='auto')  # 'auto' signifie que la stratégie est de rééquilibrer toutes les classes à la taille de la classe minoritaire.\n",
    "\n",
    "# Appliquer la méthode fit_resample\n",
    "alltxts_res, alllabs_res = rus.fit_resample(np.array(alltxts).reshape(-1, 1), alllabs)"
   ]
  },
  {
   "cell_type": "code",
   "execution_count": 7,
   "metadata": {},
   "outputs": [
    {
     "name": "stdout",
     "output_type": "stream",
     "text": [
      "Il y a 50.0 % de citations attribuées à Mitterand et 50.0 % de citations attribuées à Chirac \n"
     ]
    }
   ],
   "source": [
    "C, M = np.unique(alllabs_res, return_counts=True)[1]\n",
    "print(f\"Il y a {M/(C+M) * 100} % de citations attribuées à Mitterand et {C/(C+M) * 100} % de citations attribuées à Chirac \")"
   ]
  },
  {
   "cell_type": "markdown",
   "metadata": {},
   "source": [
    "L'under sampling a permis le réequilibrage des classes."
   ]
  },
  {
   "cell_type": "code",
   "execution_count": 8,
   "metadata": {},
   "outputs": [],
   "source": [
    "# On réassigne les variables pour plus de clarté dans le code\n",
    "alltxts, alllabs = alltxts_res, alllabs_res"
   ]
  },
  {
   "cell_type": "markdown",
   "metadata": {},
   "source": [
    "## Analyse des mots fréquents"
   ]
  },
  {
   "cell_type": "code",
   "execution_count": 9,
   "metadata": {},
   "outputs": [
    {
     "name": "stderr",
     "output_type": "stream",
     "text": [
      "[nltk_data] Downloading package punkt to\n",
      "[nltk_data]     /Users/ambroisebertin/nltk_data...\n",
      "[nltk_data]   Package punkt is already up-to-date!\n",
      "[nltk_data] Downloading package stopwords to\n",
      "[nltk_data]     /Users/ambroisebertin/nltk_data...\n",
      "[nltk_data]   Package stopwords is already up-to-date!\n"
     ]
    }
   ],
   "source": [
    "import nltk\n",
    "import string\n",
    "\n",
    "from nltk.util import ngrams\n",
    "from nltk import FreqDist, word_tokenize\n",
    "from nltk.corpus import stopwords\n",
    "\n",
    "# Nécessaire pour la première exécution\n",
    "nltk.download(\"punkt\")\n",
    "nltk.download(\"stopwords\") \n",
    "\n",
    "# Retire la ponctuation et tokenize\n",
    "translator = str.maketrans(\"\", \"\", string.punctuation)\n",
    "tokens = word_tokenize(\" \".join(map(str, alltxts)).translate(translator))"
   ]
  },
  {
   "cell_type": "code",
   "execution_count": 10,
   "metadata": {},
   "outputs": [
    {
     "name": "stdout",
     "output_type": "stream",
     "text": [
      "Taille du vocabulaire : 26809\n"
     ]
    }
   ],
   "source": [
    "# Filtre les stopwords\n",
    "stop_words = set(stopwords.words(\"english\"))\n",
    "tokens = [token for token in tokens if token not in stop_words]\n",
    "\n",
    "freq_dist = FreqDist(tokens)\n",
    "vocab_size = len(freq_dist)\n",
    "print(f\"Taille du vocabulaire : {vocab_size}\")"
   ]
  },
  {
   "cell_type": "code",
   "execution_count": 11,
   "metadata": {},
   "outputs": [],
   "source": [
    "# Calcule les 100 bigrammes et trigrams les plus fréquents\n",
    "bigram_freq = FreqDist(ngrams(tokens, 2))\n",
    "trigram_freq = FreqDist(ngrams(tokens, 3))\n",
    "\n",
    "top_100_bigrams = bigram_freq.most_common(100)\n",
    "top_100_trigrams = trigram_freq.most_common(100)"
   ]
  },
  {
   "cell_type": "code",
   "execution_count": null,
   "metadata": {},
   "outputs": [],
   "source": [
    "plt.figure(figsize=(15, 5))\n",
    "freq_dist.plot(100)\n",
    "plt.savefig('figures/freq_dist.png')\n",
    "plt.show()\n",
    "\n",
    "plt.figure(figsize=(15, 5))\n",
    "bigram_freq.plot(100)\n",
    "plt.savefig('figures/bigram_freq.png')\n",
    "plt.show()\n",
    "\n",
    "plt.figure(figsize=(15, 5))\n",
    "trigram_freq.plot(100)\n",
    "plt.savefig('figures/trigram_freq.png')\n",
    "plt.show()"
   ]
  },
  {
   "cell_type": "markdown",
   "metadata": {},
   "source": [
    "## Apprentissage du modèle"
   ]
  },
  {
   "cell_type": "markdown",
   "metadata": {},
   "source": [
    "### Préparation du dataset pour l'apprentissage"
   ]
  },
  {
   "cell_type": "code",
   "execution_count": 13,
   "metadata": {},
   "outputs": [
    {
     "name": "stdout",
     "output_type": "stream",
     "text": [
      "Taille de l'ensemble d'entraînement : 12036\n",
      "Taille de l'ensemble de test : 3010\n"
     ]
    }
   ],
   "source": [
    "from sklearn.model_selection import train_test_split\n",
    "\n",
    "# Diviser le dataset\n",
    "train_texts, test_texts, train_labels, test_labels = train_test_split(alltxts, alllabs, test_size=0.2, random_state=42)\n",
    "\n",
    "print(\"Taille de l'ensemble d'entraînement :\", len(train_texts))\n",
    "print(\"Taille de l'ensemble de test :\", len(test_texts))"
   ]
  },
  {
   "cell_type": "code",
   "execution_count": 19,
   "metadata": {},
   "outputs": [],
   "source": [
    "from sklearn.feature_extraction.text import TfidfVectorizer\n",
    "\n",
    "# Create the vectorizer\n",
    "vectorizer = TfidfVectorizer()\n",
    "\n",
    "# Flatten the list of lists to a 1-D list\n",
    "train_texts_flat = [item for sublist in train_texts for item in sublist]\n",
    "test_texts_flat = [item for sublist in test_texts for item in sublist]\n",
    "\n",
    "# Convert the text data into vectors\n",
    "train_vectors = vectorizer.fit_transform(train_texts_flat)\n",
    "test_vectors = vectorizer.transform(test_texts_flat)"
   ]
  },
  {
   "cell_type": "markdown",
   "metadata": {},
   "source": [
    "### Modèle"
   ]
  },
  {
   "cell_type": "code",
   "execution_count": 20,
   "metadata": {},
   "outputs": [],
   "source": [
    "from sklearn.naive_bayes import MultinomialNB\n",
    "\n",
    "# Créer le classifieur\n",
    "clf_NB = MultinomialNB()\n",
    "\n",
    "# Entraîner le classifieur\n",
    "clf_NB.fit(train_vectors, train_labels)\n",
    "\n",
    "# Prédire les labels sur l'ensemble de test\n",
    "pred = clf_NB.predict(test_vectors)"
   ]
  },
  {
   "cell_type": "code",
   "execution_count": 21,
   "metadata": {},
   "outputs": [],
   "source": [
    "from sklearn.linear_model import LogisticRegression\n",
    "\n",
    "# Créer le classifieur\n",
    "clf_LR = LogisticRegression()\n",
    "\n",
    "# Entraîner le classifieur\n",
    "clf_LR.fit(train_vectors, train_labels)\n",
    "\n",
    "# Prédire les labels sur l'ensemble de test\n",
    "pred = clf_LR.predict(test_vectors)"
   ]
  },
  {
   "cell_type": "code",
   "execution_count": 22,
   "metadata": {},
   "outputs": [],
   "source": [
    "from xgboost import XGBClassifier\n",
    "\n",
    "# Créer le classifieur\n",
    "clf_XGB = XGBClassifier(use_label_encoder=False, eval_metric='mlogloss')\n",
    "\n",
    "# Convert list to Series\n",
    "train_labels_series = pd.Series(train_labels)\n",
    "\n",
    "# Map labels from -1,1 to 0,1\n",
    "train_labels_mapped = train_labels_series.map({-1: 0, 1: 1})\n",
    "\n",
    "# Train the classifier with the mapped labels\n",
    "clf_XGB.fit(train_vectors, train_labels_mapped)\n",
    "\n",
    "# Prédire les labels des données de test\n",
    "pred = clf_XGB.predict(test_vectors)"
   ]
  },
  {
   "cell_type": "code",
   "execution_count": 23,
   "metadata": {},
   "outputs": [
    {
     "name": "stderr",
     "output_type": "stream",
     "text": [
      "/Users/ambroisebertin/miniconda3/envs/general/lib/python3.12/site-packages/sklearn/svm/_classes.py:32: FutureWarning: The default value of `dual` will change from `True` to `'auto'` in 1.5. Set the value of `dual` explicitly to suppress the warning.\n",
      "  warnings.warn(\n"
     ]
    }
   ],
   "source": [
    "from sklearn.svm import LinearSVC\n",
    "\n",
    "# Créer le classifieur\n",
    "clf_SVM = LinearSVC(C=1.0)\n",
    "\n",
    "# Entraîner le classifieur\n",
    "clf_SVM.fit(train_vectors, train_labels)\n",
    "\n",
    "# Prédire les labels sur l'ensemble de test\n",
    "pred = clf_SVM.predict(test_vectors)"
   ]
  },
  {
   "cell_type": "code",
   "execution_count": 25,
   "metadata": {},
   "outputs": [
    {
     "data": {
      "image/png": "[encoded data removed]",
      "text/plain": [
       "<Figure size 640x480 with 1 Axes>"
      ]
     },
     "metadata": {},
     "output_type": "display_data"
    },
    {
     "name": "stdout",
     "output_type": "stream",
     "text": [
      "                Model  Precision       AUC\n",
      "0       MultinomialNB   0.771096  0.857627\n",
      "1  LogisticRegression   0.759801  0.845076\n",
      "2       XGBClassifier   0.390033  0.805609\n",
      "3           LinearSVC   0.759801  0.846109 \n",
      "\n",
      "Le modèle avec la meilleure précision est MultinomialNB\n",
      "Le modèle avec le meilleur AUC est MultinomialNB\n"
     ]
    }
   ],
   "source": [
    "from sklearn.metrics import accuracy_score, roc_curve, auc\n",
    "\n",
    "# on va évaluer chaque modèle avec les métriques \"précision\", \"ROC\" et \"AUC\"\n",
    "modele = [clf_NB, clf_LR, clf_XGB, clf_SVM]\n",
    "\n",
    "# Initialize a DataFrame to store the results\n",
    "results = pd.DataFrame(columns=['Model', 'Precision', 'AUC'])\n",
    "\n",
    "for model in modele:\n",
    "    model_name = type(model).__name__\n",
    "    \n",
    "    # Calculer la précision\n",
    "    pred = model.predict(test_vectors)\n",
    "    precision = accuracy_score(test_labels, pred)\n",
    "\n",
    "    # Cas particulier pour le modele SVM qui ne possède pas de méthode predict_proba\n",
    "    if hasattr(model, 'predict_proba'):\n",
    "        # Calculer l'auc\n",
    "        pred_proba = model.predict_proba(test_vectors)[:, 1]\n",
    "    elif hasattr(model, 'decision_function'):  # utiliser decision_function pour le modele SVM qui n'a pas de méthode predict_proba\n",
    "        pred_proba = model.decision_function(test_vectors)\n",
    "    else:\n",
    "        print(f\"Le modèle {model_name} n'a pas de méthode pour calculer la probabilité\", \"\\n\")\n",
    "        continue\n",
    "\n",
    "    fpr, tpr, _ = roc_curve(test_labels, pred_proba)\n",
    "    roc_auc = auc(fpr, tpr)\n",
    "\n",
    "    # Ajouter les résultats dans un DataFrame qu'on va ensuite afficher pour synthétiser les résultats\n",
    "    results.loc[len(results)] = [model_name, precision, roc_auc]\n",
    "\n",
    "# Afficher les résultats sous forme de graphique\n",
    "results.plot(kind='bar', x='Model', y=['Precision', 'AUC'])\n",
    "plt.title('Model Performance')\n",
    "plt.ylabel('Score')\n",
    "plt.ylim([0.75, 0.95])\n",
    "plt.legend(['Precision', 'AUC'])\n",
    "plt.savefig('figures/results.png')\n",
    "plt.show()\n",
    "\n",
    "# Afficher le tableau de synthèse des résultats\n",
    "print(results,\"\\n\")\n",
    "\n",
    "# Indiquer quels sont les modèles qui ont la meilleure précision et le meilleur AUC\n",
    "best_precision_models = results[results['Precision'] == results['Precision'].max()]['Model'].values\n",
    "best_auc_models = results[results['AUC'] == results['AUC'].max()]['Model'].values\n",
    "\n",
    "print(f\"Le modèle avec la meilleure précision est {', '.join(best_precision_models)}\")\n",
    "print(f\"Le modèle avec le meilleur AUC est {', '.join(best_auc_models)}\")"
   ]
  },
  {
   "cell_type": "code",
   "execution_count": null,
   "metadata": {},
   "outputs": [],
   "source": []
  },
  {
   "cell_type": "code",
   "execution_count": null,
   "metadata": {},
   "outputs": [],
   "source": []
  },
  {
   "cell_type": "code",
   "execution_count": null,
   "metadata": {},
   "outputs": [],
   "source": []
  }
 ],
 "metadata": {
  "kernelspec": {
   "display_name": "general",
   "language": "python",
   "name": "python3"
  },
  "language_info": {
   "codemirror_mode": {
    "name": "ipython",
    "version": 3
   },
   "file_extension": ".py",
   "mimetype": "text/x-python",
   "name": "python",
   "nbconvert_exporter": "python",
   "pygments_lexer": "ipython3",
   "version": "3.12.0"
  }
 },
 "nbformat": 4,
 "nbformat_minor": 2
}
